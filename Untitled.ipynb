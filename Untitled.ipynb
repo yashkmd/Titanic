{
 "cells": [
  {
   "cell_type": "code",
   "execution_count": 1,
   "id": "8813bb80",
   "metadata": {},
   "outputs": [],
   "source": [
    "import numpy as np\n",
    "import pandas as pd\n",
    "import matplotlib.pyplot as plt\n",
    "import seaborn as sns\n",
    "%matplotlib inline"
   ]
  },
  {
   "cell_type": "code",
   "execution_count": 2,
   "id": "afb6090b",
   "metadata": {},
   "outputs": [
    {
     "data": {
      "text/html": [
       "<div>\n",
       "<style scoped>\n",
       "    .dataframe tbody tr th:only-of-type {\n",
       "        vertical-align: middle;\n",
       "    }\n",
       "\n",
       "    .dataframe tbody tr th {\n",
       "        vertical-align: top;\n",
       "    }\n",
       "\n",
       "    .dataframe thead th {\n",
       "        text-align: right;\n",
       "    }\n",
       "</style>\n",
       "<table border=\"1\" class=\"dataframe\">\n",
       "  <thead>\n",
       "    <tr style=\"text-align: right;\">\n",
       "      <th></th>\n",
       "      <th>PassengerId</th>\n",
       "      <th>Survived</th>\n",
       "      <th>Pclass</th>\n",
       "      <th>Name</th>\n",
       "      <th>Sex</th>\n",
       "      <th>Age</th>\n",
       "      <th>SibSp</th>\n",
       "      <th>Parch</th>\n",
       "      <th>Ticket</th>\n",
       "      <th>Fare</th>\n",
       "      <th>Cabin</th>\n",
       "      <th>Embarked</th>\n",
       "    </tr>\n",
       "  </thead>\n",
       "  <tbody>\n",
       "    <tr>\n",
       "      <th>0</th>\n",
       "      <td>1</td>\n",
       "      <td>0</td>\n",
       "      <td>3</td>\n",
       "      <td>Braund, Mr. Owen Harris</td>\n",
       "      <td>male</td>\n",
       "      <td>22.0</td>\n",
       "      <td>1</td>\n",
       "      <td>0</td>\n",
       "      <td>A/5 21171</td>\n",
       "      <td>7.2500</td>\n",
       "      <td>NaN</td>\n",
       "      <td>S</td>\n",
       "    </tr>\n",
       "    <tr>\n",
       "      <th>1</th>\n",
       "      <td>2</td>\n",
       "      <td>1</td>\n",
       "      <td>1</td>\n",
       "      <td>Cumings, Mrs. John Bradley (Florence Briggs Th...</td>\n",
       "      <td>female</td>\n",
       "      <td>38.0</td>\n",
       "      <td>1</td>\n",
       "      <td>0</td>\n",
       "      <td>PC 17599</td>\n",
       "      <td>71.2833</td>\n",
       "      <td>C85</td>\n",
       "      <td>C</td>\n",
       "    </tr>\n",
       "    <tr>\n",
       "      <th>2</th>\n",
       "      <td>3</td>\n",
       "      <td>1</td>\n",
       "      <td>3</td>\n",
       "      <td>Heikkinen, Miss. Laina</td>\n",
       "      <td>female</td>\n",
       "      <td>26.0</td>\n",
       "      <td>0</td>\n",
       "      <td>0</td>\n",
       "      <td>STON/O2. 3101282</td>\n",
       "      <td>7.9250</td>\n",
       "      <td>NaN</td>\n",
       "      <td>S</td>\n",
       "    </tr>\n",
       "    <tr>\n",
       "      <th>3</th>\n",
       "      <td>4</td>\n",
       "      <td>1</td>\n",
       "      <td>1</td>\n",
       "      <td>Futrelle, Mrs. Jacques Heath (Lily May Peel)</td>\n",
       "      <td>female</td>\n",
       "      <td>35.0</td>\n",
       "      <td>1</td>\n",
       "      <td>0</td>\n",
       "      <td>113803</td>\n",
       "      <td>53.1000</td>\n",
       "      <td>C123</td>\n",
       "      <td>S</td>\n",
       "    </tr>\n",
       "    <tr>\n",
       "      <th>4</th>\n",
       "      <td>5</td>\n",
       "      <td>0</td>\n",
       "      <td>3</td>\n",
       "      <td>Allen, Mr. William Henry</td>\n",
       "      <td>male</td>\n",
       "      <td>35.0</td>\n",
       "      <td>0</td>\n",
       "      <td>0</td>\n",
       "      <td>373450</td>\n",
       "      <td>8.0500</td>\n",
       "      <td>NaN</td>\n",
       "      <td>S</td>\n",
       "    </tr>\n",
       "  </tbody>\n",
       "</table>\n",
       "</div>"
      ],
      "text/plain": [
       "   PassengerId  Survived  Pclass  \\\n",
       "0            1         0       3   \n",
       "1            2         1       1   \n",
       "2            3         1       3   \n",
       "3            4         1       1   \n",
       "4            5         0       3   \n",
       "\n",
       "                                                Name     Sex   Age  SibSp  \\\n",
       "0                            Braund, Mr. Owen Harris    male  22.0      1   \n",
       "1  Cumings, Mrs. John Bradley (Florence Briggs Th...  female  38.0      1   \n",
       "2                             Heikkinen, Miss. Laina  female  26.0      0   \n",
       "3       Futrelle, Mrs. Jacques Heath (Lily May Peel)  female  35.0      1   \n",
       "4                           Allen, Mr. William Henry    male  35.0      0   \n",
       "\n",
       "   Parch            Ticket     Fare Cabin Embarked  \n",
       "0      0         A/5 21171   7.2500   NaN        S  \n",
       "1      0          PC 17599  71.2833   C85        C  \n",
       "2      0  STON/O2. 3101282   7.9250   NaN        S  \n",
       "3      0            113803  53.1000  C123        S  \n",
       "4      0            373450   8.0500   NaN        S  "
      ]
     },
     "execution_count": 2,
     "metadata": {},
     "output_type": "execute_result"
    }
   ],
   "source": [
    "df = pd.read_csv('train.csv')\n",
    "df.head()"
   ]
  },
  {
   "cell_type": "code",
   "execution_count": 3,
   "id": "8c848cd7",
   "metadata": {},
   "outputs": [
    {
     "name": "stdout",
     "output_type": "stream",
     "text": [
      "<class 'pandas.core.frame.DataFrame'>\n",
      "RangeIndex: 891 entries, 0 to 890\n",
      "Data columns (total 12 columns):\n",
      " #   Column       Non-Null Count  Dtype  \n",
      "---  ------       --------------  -----  \n",
      " 0   PassengerId  891 non-null    int64  \n",
      " 1   Survived     891 non-null    int64  \n",
      " 2   Pclass       891 non-null    int64  \n",
      " 3   Name         891 non-null    object \n",
      " 4   Sex          891 non-null    object \n",
      " 5   Age          714 non-null    float64\n",
      " 6   SibSp        891 non-null    int64  \n",
      " 7   Parch        891 non-null    int64  \n",
      " 8   Ticket       891 non-null    object \n",
      " 9   Fare         891 non-null    float64\n",
      " 10  Cabin        204 non-null    object \n",
      " 11  Embarked     889 non-null    object \n",
      "dtypes: float64(2), int64(5), object(5)\n",
      "memory usage: 83.7+ KB\n"
     ]
    }
   ],
   "source": [
    "df.info()"
   ]
  },
  {
   "cell_type": "code",
   "execution_count": 5,
   "id": "9e44774e",
   "metadata": {},
   "outputs": [
    {
     "data": {
      "text/plain": [
       "0      22.0\n",
       "1      38.0\n",
       "2      26.0\n",
       "3      35.0\n",
       "4      35.0\n",
       "       ... \n",
       "886    27.0\n",
       "887    19.0\n",
       "888    22.5\n",
       "889    26.0\n",
       "890    32.0\n",
       "Name: Age, Length: 891, dtype: float64"
      ]
     },
     "execution_count": 5,
     "metadata": {},
     "output_type": "execute_result"
    }
   ],
   "source": [
    "df['Age'].interpolate()"
   ]
  },
  {
   "cell_type": "code",
   "execution_count": 6,
   "id": "c673fe44",
   "metadata": {},
   "outputs": [
    {
     "data": {
      "text/plain": [
       "PassengerId      0\n",
       "Survived         0\n",
       "Pclass           0\n",
       "Name             0\n",
       "Sex              0\n",
       "Age            177\n",
       "SibSp            0\n",
       "Parch            0\n",
       "Ticket           0\n",
       "Fare             0\n",
       "Cabin          687\n",
       "Embarked         2\n",
       "dtype: int64"
      ]
     },
     "execution_count": 6,
     "metadata": {},
     "output_type": "execute_result"
    }
   ],
   "source": [
    "df.isnull().sum()"
   ]
  },
  {
   "cell_type": "code",
   "execution_count": 7,
   "id": "f62bf2ab",
   "metadata": {},
   "outputs": [
    {
     "data": {
      "text/plain": [
       "14.526497332334044"
      ]
     },
     "execution_count": 7,
     "metadata": {},
     "output_type": "execute_result"
    }
   ],
   "source": [
    "df['Age'].std()"
   ]
  },
  {
   "cell_type": "code",
   "execution_count": 8,
   "id": "4b2f34d5",
   "metadata": {},
   "outputs": [],
   "source": [
    "# lets do random sample impute on the Age Column\n",
    "Age_notnull = df[df['Age'].notnull()]['Age']"
   ]
  },
  {
   "cell_type": "code",
   "execution_count": 9,
   "id": "d53557dc",
   "metadata": {},
   "outputs": [],
   "source": [
    "# Taking out a random sample of Age with length equal to count of null values\n",
    "Random_Sample = Age_notnull.sample(df['Age'].isnull().sum())"
   ]
  },
  {
   "cell_type": "code",
   "execution_count": 10,
   "id": "2e9421ab",
   "metadata": {},
   "outputs": [
    {
     "data": {
      "text/plain": [
       "Int64Index([  5,  17,  19,  26,  28,  29,  31,  32,  36,  42,\n",
       "            ...\n",
       "            832, 837, 839, 846, 849, 859, 863, 868, 878, 888],\n",
       "           dtype='int64', length=177)"
      ]
     },
     "execution_count": 10,
     "metadata": {},
     "output_type": "execute_result"
    }
   ],
   "source": [
    "#Index of null values\n",
    "Age_nullindex = df[df['Age'].isnull()]['Age'].index\n",
    "Age_nullindex"
   ]
  },
  {
   "cell_type": "code",
   "execution_count": 11,
   "id": "9a45ddbd",
   "metadata": {},
   "outputs": [
    {
     "data": {
      "text/plain": [
       "array([35.  , 19.  , 18.  , 44.  , 39.  , 42.  , 24.  , 61.  , 32.  ,\n",
       "       40.  , 50.  , 20.  , 28.  , 34.  , 46.  , 19.  , 19.  , 25.  ,\n",
       "       22.  , 47.  , 38.  , 15.  , 36.  , 60.  , 29.  , 35.  , 51.  ,\n",
       "       23.  , 16.  , 16.  , 35.  , 23.  , 31.  , 31.  , 40.  , 26.  ,\n",
       "        4.  , 22.  ,  5.  , 28.  ,  4.  , 18.  , 24.  ,  2.  , 53.  ,\n",
       "       16.  , 31.  , 27.  , 28.  ,  0.42, 47.  , 25.  , 16.  ,  9.  ,\n",
       "       24.  , 47.  , 16.  , 36.  , 17.  , 58.  , 14.5 , 31.  , 50.  ,\n",
       "       49.  , 19.  , 34.  , 31.  , 26.  ,  3.  , 45.  , 34.  , 32.  ,\n",
       "       28.  , 29.  , 55.  , 20.5 , 58.  , 16.  , 15.  , 30.  , 29.  ,\n",
       "       22.  , 37.  , 39.  , 37.  , 39.  , 23.  , 54.  , 42.  , 35.  ,\n",
       "       32.5 , 22.  , 49.  , 18.  ,  5.  , 18.  , 42.  , 30.  , 24.  ,\n",
       "       35.  , 22.  , 32.  , 22.  , 23.  , 70.  ,  0.75, 50.  , 34.  ,\n",
       "       28.  , 45.  , 26.  , 16.  , 44.  , 36.  , 33.  , 42.  ,  9.  ,\n",
       "       32.  , 28.  , 54.  , 32.  ,  5.  , 30.  , 41.  , 34.  , 20.  ,\n",
       "       40.  ,  6.  , 27.  ,  4.  , 45.  , 19.  , 30.  , 10.  , 19.  ,\n",
       "       42.  , 34.  , 41.  , 35.  , 26.  , 66.  , 21.  ,  8.  , 47.  ,\n",
       "       17.  , 24.  ,  9.  , 24.  , 39.  ,  4.  , 36.  , 47.  , 25.  ,\n",
       "       36.  , 54.  , 34.  , 27.  , 17.  , 40.  , 35.  , 36.  , 45.  ,\n",
       "       45.  , 52.  , 19.  , 45.  , 48.  , 24.  , 51.  , 40.  , 42.  ,\n",
       "        1.  , 49.  , 18.  , 27.  , 48.  , 15.  ])"
      ]
     },
     "execution_count": 11,
     "metadata": {},
     "output_type": "execute_result"
    }
   ],
   "source": [
    "Random_Sample.values"
   ]
  },
  {
   "cell_type": "code",
   "execution_count": 12,
   "id": "a75e38e5",
   "metadata": {},
   "outputs": [
    {
     "name": "stderr",
     "output_type": "stream",
     "text": [
      "C:\\Users\\YASHK\\AppData\\Local\\Temp\\ipykernel_22356\\1675047039.py:1: SettingWithCopyWarning: \n",
      "A value is trying to be set on a copy of a slice from a DataFrame\n",
      "\n",
      "See the caveats in the documentation: https://pandas.pydata.org/pandas-docs/stable/user_guide/indexing.html#returning-a-view-versus-a-copy\n",
      "  df['Age'].iloc[Age_nullindex] = Random_Sample.values\n"
     ]
    }
   ],
   "source": [
    "df['Age'].iloc[Age_nullindex] = Random_Sample.values"
   ]
  },
  {
   "cell_type": "code",
   "execution_count": 13,
   "id": "0d97ed89",
   "metadata": {},
   "outputs": [
    {
     "data": {
      "text/plain": [
       "14.506613715502777"
      ]
     },
     "execution_count": 13,
     "metadata": {},
     "output_type": "execute_result"
    }
   ],
   "source": [
    "df['Age'].std()"
   ]
  },
  {
   "cell_type": "code",
   "execution_count": 14,
   "id": "559b0d08",
   "metadata": {},
   "outputs": [],
   "source": [
    "# One important thing to note is that the Standard Deviation of the Age changes only slightly after the imputation is performed."
   ]
  },
  {
   "cell_type": "code",
   "execution_count": 15,
   "id": "d754463a",
   "metadata": {},
   "outputs": [
    {
     "name": "stdout",
     "output_type": "stream",
     "text": [
      "<class 'pandas.core.frame.DataFrame'>\n",
      "Int64Index: 889 entries, 0 to 890\n",
      "Data columns (total 12 columns):\n",
      " #   Column       Non-Null Count  Dtype  \n",
      "---  ------       --------------  -----  \n",
      " 0   PassengerId  889 non-null    int64  \n",
      " 1   Survived     889 non-null    int64  \n",
      " 2   Pclass       889 non-null    int64  \n",
      " 3   Name         889 non-null    object \n",
      " 4   Sex          889 non-null    object \n",
      " 5   Age          889 non-null    float64\n",
      " 6   SibSp        889 non-null    int64  \n",
      " 7   Parch        889 non-null    int64  \n",
      " 8   Ticket       889 non-null    object \n",
      " 9   Fare         889 non-null    float64\n",
      " 10  Cabin        202 non-null    object \n",
      " 11  Embarked     889 non-null    object \n",
      "dtypes: float64(2), int64(5), object(5)\n",
      "memory usage: 90.3+ KB\n"
     ]
    }
   ],
   "source": [
    "df.dropna(subset=['Embarked']).info()"
   ]
  },
  {
   "cell_type": "code",
   "execution_count": 17,
   "id": "913b7542",
   "metadata": {},
   "outputs": [],
   "source": [
    "#Lets jump onto the Cabin column\n",
    "df['Cabin_new'] =  df['Cabin'].str.split('/')"
   ]
  },
  {
   "cell_type": "code",
   "execution_count": 18,
   "id": "18ac0d86",
   "metadata": {},
   "outputs": [
    {
     "data": {
      "text/plain": [
       "0         NaN\n",
       "1       [C85]\n",
       "2         NaN\n",
       "3      [C123]\n",
       "4         NaN\n",
       "        ...  \n",
       "886       NaN\n",
       "887     [B42]\n",
       "888       NaN\n",
       "889    [C148]\n",
       "890       NaN\n",
       "Name: Cabin_new, Length: 891, dtype: object"
      ]
     },
     "execution_count": 18,
     "metadata": {},
     "output_type": "execute_result"
    }
   ],
   "source": [
    "df['Cabin_new']"
   ]
  },
  {
   "cell_type": "code",
   "execution_count": 22,
   "id": "17cfaebc",
   "metadata": {},
   "outputs": [
    {
     "data": {
      "text/plain": [
       "39.0"
      ]
     },
     "execution_count": 22,
     "metadata": {},
     "output_type": "execute_result"
    }
   ],
   "source": [
    "df['Age'].quantile(0.75)"
   ]
  },
  {
   "cell_type": "code",
   "execution_count": 27,
   "id": "2c9b34a7",
   "metadata": {},
   "outputs": [
    {
     "data": {
      "text/plain": [
       "<bound method NDFrame.copy of      PassengerId  Survived  Pclass  \\\n",
       "0              1         0       3   \n",
       "1              2         1       1   \n",
       "2              3         1       3   \n",
       "3              4         1       1   \n",
       "4              5         0       3   \n",
       "..           ...       ...     ...   \n",
       "886          887         0       2   \n",
       "887          888         1       1   \n",
       "888          889         0       3   \n",
       "889          890         1       1   \n",
       "890          891         0       3   \n",
       "\n",
       "                                                  Name     Sex   Age  SibSp  \\\n",
       "0                              Braund, Mr. Owen Harris    male  22.0      1   \n",
       "1    Cumings, Mrs. John Bradley (Florence Briggs Th...  female  38.0      1   \n",
       "2                               Heikkinen, Miss. Laina  female  26.0      0   \n",
       "3         Futrelle, Mrs. Jacques Heath (Lily May Peel)  female  35.0      1   \n",
       "4                             Allen, Mr. William Henry    male  35.0      0   \n",
       "..                                                 ...     ...   ...    ...   \n",
       "886                              Montvila, Rev. Juozas    male  27.0      0   \n",
       "887                       Graham, Miss. Margaret Edith  female  19.0      0   \n",
       "888           Johnston, Miss. Catherine Helen \"Carrie\"  female  15.0      1   \n",
       "889                              Behr, Mr. Karl Howell    male  26.0      0   \n",
       "890                                Dooley, Mr. Patrick    male  32.0      0   \n",
       "\n",
       "     Parch            Ticket     Fare Cabin Embarked Cabin_new  \n",
       "0        0         A/5 21171   7.2500   NaN        S       NaN  \n",
       "1        0          PC 17599  71.2833   C85        C     [C85]  \n",
       "2        0  STON/O2. 3101282   7.9250   NaN        S       NaN  \n",
       "3        0            113803  53.1000  C123        S    [C123]  \n",
       "4        0            373450   8.0500   NaN        S       NaN  \n",
       "..     ...               ...      ...   ...      ...       ...  \n",
       "886      0            211536  13.0000   NaN        S       NaN  \n",
       "887      0            112053  30.0000   B42        S     [B42]  \n",
       "888      2        W./C. 6607  23.4500   NaN        S       NaN  \n",
       "889      0            111369  30.0000  C148        C    [C148]  \n",
       "890      0            370376   7.7500   NaN        Q       NaN  \n",
       "\n",
       "[891 rows x 13 columns]>"
      ]
     },
     "execution_count": 27,
     "metadata": {},
     "output_type": "execute_result"
    }
   ],
   "source": [
    "data = df.copy\n",
    "data"
   ]
  },
  {
   "cell_type": "code",
   "execution_count": 42,
   "id": "98af58c4",
   "metadata": {},
   "outputs": [
    {
     "data": {
      "text/plain": [
       "(891,)"
      ]
     },
     "execution_count": 42,
     "metadata": {},
     "output_type": "execute_result"
    }
   ],
   "source": []
  },
  {
   "cell_type": "code",
   "execution_count": 50,
   "id": "1ca7c932",
   "metadata": {},
   "outputs": [
    {
     "ename": "ValueError",
     "evalue": "Expected 2D array, got 1D array instead:\narray=[22.   38.   26.   35.   35.   35.   54.    2.   27.   14.    4.   58.\n 20.   39.   14.   55.    2.   19.   31.   18.   35.   34.   15.   28.\n  8.   38.   44.   19.   39.   42.   40.   24.   61.   66.   28.   42.\n 32.   21.   18.   14.   40.   27.   40.    3.   19.   50.   20.   28.\n 34.   18.    7.   21.   49.   29.   65.   46.   21.   28.5   5.   11.\n 22.   38.   45.    4.   19.   19.   29.   19.   17.   26.   32.   16.\n 21.   26.   32.   25.   25.   22.    0.83 30.   22.   29.   47.   28.\n 17.   33.   16.   38.   23.   24.   29.   20.   46.   26.   59.   15.\n 71.   23.   34.   34.   28.   36.   21.   33.   37.   28.   21.   60.\n 38.   29.   47.   14.5  22.   20.   17.   21.   70.5  29.   24.    2.\n 21.   35.   32.5  32.5  54.   12.   51.   24.   23.   45.   33.   20.\n 47.   29.   25.   23.   19.   37.   16.   24.   16.   22.   24.   19.\n 18.   19.   27.    9.   36.5  42.   51.   22.   55.5  40.5  16.   51.\n 16.   30.   35.   23.   44.   40.   26.   17.    1.    9.   31.   45.\n 31.   28.   61.    4.    1.   21.   56.   18.   40.   50.   30.   36.\n 26.    4.    9.    1.    4.   22.    5.   45.   40.   36.   32.   19.\n 19.    3.   44.   58.   28.   42.    4.   24.   28.   18.   34.   45.5\n 18.    2.   32.   26.   16.   40.   24.   35.   22.   30.   24.   31.\n 27.   42.   32.   30.   16.   27.   51.    2.   38.   22.   19.   20.5\n 18.   53.   35.   29.   59.    5.   24.   16.   44.    8.   19.   33.\n 31.   27.   29.   22.   30.   44.   25.   24.   37.   54.   28.   29.\n 62.   30.   41.   29.    0.42 30.   35.   50.   47.    3.   52.   40.\n 25.   36.   16.   25.   58.   35.   16.   25.   41.   37.    9.   63.\n 45.   24.    7.   35.   65.   28.   16.   19.   47.   33.   30.   22.\n 42.   22.   26.   19.   36.   24.   24.   16.   23.5   2.   36.   50.\n 17.   58.   19.   14.5  31.    0.92 50.   17.   30.   30.   24.   18.\n 26.   28.   43.   26.   24.   54.   31.   40.   22.   27.   30.   22.\n 49.   36.   61.   36.   31.   16.   19.   45.5  38.   16.   34.   31.\n 29.   41.   45.   45.    2.   24.   28.   25.   36.   24.   40.   26.\n  3.   42.   23.    3.   15.   25.   45.   28.   22.   38.   34.   32.\n 40.   29.   45.   35.   28.   30.   60.   29.   55.   24.   25.   18.\n 19.   22.    3.   20.5  22.   27.   20.   19.   42.    1.   32.   35.\n 58.   18.    1.   36.   16.   17.   36.   21.   28.   23.   24.   22.\n 31.   46.   23.   28.   39.   26.   21.   28.   20.   34.   51.    3.\n 21.   15.   30.   29.   33.   22.   44.   37.   34.   18.   30.   10.\n 39.   21.   29.   28.   18.   37.   28.   19.   39.   32.   28.   23.\n 42.   17.   50.   14.   21.   24.   64.   31.   45.   20.   25.   28.\n 54.    4.   13.   34.    5.   52.   36.   42.   30.   49.   35.   29.\n 65.   32.5  50.   22.   48.   34.   47.   48.   49.   38.   18.   56.\n  5.    0.75 18.   38.   33.   23.   22.   42.   34.   29.   22.    2.\n  9.   30.   50.   63.   25.   24.   35.   58.   30.    9.   35.   21.\n 55.   71.   21.   22.   54.   32.   25.   24.   17.   21.   22.   37.\n 16.   18.   33.   23.   28.   26.   29.   70.   36.   54.   24.   47.\n 34.    0.75 36.   32.   30.   22.   50.   44.   34.   40.5  50.   28.\n 39.   23.    2.   45.   17.   26.   30.    7.   45.   30.   16.   22.\n 36.    9.   11.   32.   50.   64.   19.   44.   33.    8.   17.   27.\n 36.   22.   22.   62.   48.   33.   39.   36.   42.   40.   28.    9.\n 32.   24.   19.   29.   28.   32.   62.   53.   36.   54.   16.   19.\n 34.   39.   32.   32.   25.   39.   54.   36.    5.   18.   47.   60.\n 22.   30.   35.   52.   47.   41.   37.   36.   34.   49.   20.   49.\n 24.   40.    6.   44.   35.   36.   30.   27.   22.   40.   39.   27.\n  4.   45.   35.   24.   34.   26.    4.   26.   27.   42.   20.   21.\n 21.   61.   57.   21.   26.   19.   80.   51.   32.   30.    9.   28.\n 32.   31.   41.   10.   20.   24.    2.   19.    0.75 48.   19.   56.\n 42.   23.   34.   18.   21.   41.   18.   24.   35.   32.   23.   58.\n 50.   40.   47.   36.   20.   32.   25.   26.   43.   66.   40.   31.\n 70.   31.   21.   18.   24.5  18.   43.   36.    8.   27.   20.   14.\n 60.   25.   14.   19.   18.   15.   31.    4.   47.   25.   60.   52.\n 44.   17.   49.   42.   18.   35.   18.   25.   26.   39.   45.   42.\n 22.   24.   24.    9.   48.   29.   52.   19.   38.   27.   24.   33.\n  6.   17.   34.   50.   27.   20.   30.   39.   25.   25.   29.   11.\n  4.   23.   23.   28.5  48.   35.   36.   47.   25.   36.   21.   24.\n 31.   70.   16.   30.   19.   31.    4.    6.   33.   23.   48.    0.67\n 28.   18.   34.   33.   36.   41.   20.   36.   16.   51.   54.   30.5\n 34.   32.   24.   48.   57.   27.   54.   18.   17.    5.   40.   43.\n 13.   17.   29.   35.   25.   25.   18.    8.    1.   46.   36.   16.\n 45.   45.   25.   39.   49.   31.   30.   30.   34.   31.   11.    0.42\n 27.   31.   39.   18.   39.   33.   26.   39.   35.    6.   30.5  52.\n 23.   31.   43.   10.   52.   27.   38.   27.    2.   19.   45.    1.\n 48.   62.   15.    0.83 24.   23.   18.   39.   21.   51.   32.   40.\n 20.   16.   30.   34.5  17.   42.   42.   35.   28.    1.    4.   74.\n  9.   16.   44.   18.   45.   51.   24.   49.   41.   21.   48.   18.\n 24.   42.   27.   31.   27.    4.   26.   47.   33.   47.   28.   15.\n 20.   19.   48.   56.   25.   33.   22.   28.   25.   39.   27.   19.\n 15.   26.   32.  ].\nReshape your data either using array.reshape(-1, 1) if your data has a single feature or array.reshape(1, -1) if it contains a single sample.",
     "output_type": "error",
     "traceback": [
      "\u001b[1;31m---------------------------------------------------------------------------\u001b[0m",
      "\u001b[1;31mValueError\u001b[0m                                Traceback (most recent call last)",
      "\u001b[1;32m~\\AppData\\Local\\Temp\\ipykernel_22356\\4023056976.py\u001b[0m in \u001b[0;36m<module>\u001b[1;34m\u001b[0m\n\u001b[0;32m      1\u001b[0m \u001b[1;32mfrom\u001b[0m \u001b[0msklearn\u001b[0m\u001b[1;33m.\u001b[0m\u001b[0mensemble\u001b[0m \u001b[1;32mimport\u001b[0m \u001b[0mIsolationForest\u001b[0m\u001b[1;33m\u001b[0m\u001b[1;33m\u001b[0m\u001b[0m\n\u001b[0;32m      2\u001b[0m \u001b[0mmodel\u001b[0m \u001b[1;33m=\u001b[0m \u001b[0mIsolationForest\u001b[0m\u001b[1;33m(\u001b[0m\u001b[0mmax_samples\u001b[0m\u001b[1;33m=\u001b[0m\u001b[1;36m100\u001b[0m\u001b[1;33m,\u001b[0m \u001b[0mrandom_state\u001b[0m\u001b[1;33m=\u001b[0m\u001b[1;36m101\u001b[0m\u001b[1;33m)\u001b[0m\u001b[1;33m\u001b[0m\u001b[1;33m\u001b[0m\u001b[0m\n\u001b[1;32m----> 3\u001b[1;33m \u001b[0mmodel\u001b[0m\u001b[1;33m.\u001b[0m\u001b[0mfit\u001b[0m\u001b[1;33m(\u001b[0m\u001b[0mdf\u001b[0m\u001b[1;33m[\u001b[0m\u001b[1;34m'Age'\u001b[0m\u001b[1;33m]\u001b[0m\u001b[1;33m.\u001b[0m\u001b[0mvalues\u001b[0m\u001b[1;33m)\u001b[0m\u001b[1;33m\u001b[0m\u001b[1;33m\u001b[0m\u001b[0m\n\u001b[0m",
      "\u001b[1;32m~\\anaconda3\\lib\\site-packages\\sklearn\\ensemble\\_iforest.py\u001b[0m in \u001b[0;36mfit\u001b[1;34m(self, X, y, sample_weight)\u001b[0m\n\u001b[0;32m    256\u001b[0m             \u001b[0mFitted\u001b[0m \u001b[0mestimator\u001b[0m\u001b[1;33m.\u001b[0m\u001b[1;33m\u001b[0m\u001b[1;33m\u001b[0m\u001b[0m\n\u001b[0;32m    257\u001b[0m         \"\"\"\n\u001b[1;32m--> 258\u001b[1;33m         \u001b[0mX\u001b[0m \u001b[1;33m=\u001b[0m \u001b[0mself\u001b[0m\u001b[1;33m.\u001b[0m\u001b[0m_validate_data\u001b[0m\u001b[1;33m(\u001b[0m\u001b[0mX\u001b[0m\u001b[1;33m,\u001b[0m \u001b[0maccept_sparse\u001b[0m\u001b[1;33m=\u001b[0m\u001b[1;33m[\u001b[0m\u001b[1;34m\"csc\"\u001b[0m\u001b[1;33m]\u001b[0m\u001b[1;33m)\u001b[0m\u001b[1;33m\u001b[0m\u001b[1;33m\u001b[0m\u001b[0m\n\u001b[0m\u001b[0;32m    259\u001b[0m         \u001b[1;32mif\u001b[0m \u001b[0missparse\u001b[0m\u001b[1;33m(\u001b[0m\u001b[0mX\u001b[0m\u001b[1;33m)\u001b[0m\u001b[1;33m:\u001b[0m\u001b[1;33m\u001b[0m\u001b[1;33m\u001b[0m\u001b[0m\n\u001b[0;32m    260\u001b[0m             \u001b[1;31m# Pre-sort indices to avoid that each individual tree of the\u001b[0m\u001b[1;33m\u001b[0m\u001b[1;33m\u001b[0m\u001b[0m\n",
      "\u001b[1;32m~\\anaconda3\\lib\\site-packages\\sklearn\\base.py\u001b[0m in \u001b[0;36m_validate_data\u001b[1;34m(self, X, y, reset, validate_separately, **check_params)\u001b[0m\n\u001b[0;32m    564\u001b[0m             \u001b[1;32mraise\u001b[0m \u001b[0mValueError\u001b[0m\u001b[1;33m(\u001b[0m\u001b[1;34m\"Validation should be done on X, y or both.\"\u001b[0m\u001b[1;33m)\u001b[0m\u001b[1;33m\u001b[0m\u001b[1;33m\u001b[0m\u001b[0m\n\u001b[0;32m    565\u001b[0m         \u001b[1;32melif\u001b[0m \u001b[1;32mnot\u001b[0m \u001b[0mno_val_X\u001b[0m \u001b[1;32mand\u001b[0m \u001b[0mno_val_y\u001b[0m\u001b[1;33m:\u001b[0m\u001b[1;33m\u001b[0m\u001b[1;33m\u001b[0m\u001b[0m\n\u001b[1;32m--> 566\u001b[1;33m             \u001b[0mX\u001b[0m \u001b[1;33m=\u001b[0m \u001b[0mcheck_array\u001b[0m\u001b[1;33m(\u001b[0m\u001b[0mX\u001b[0m\u001b[1;33m,\u001b[0m \u001b[1;33m**\u001b[0m\u001b[0mcheck_params\u001b[0m\u001b[1;33m)\u001b[0m\u001b[1;33m\u001b[0m\u001b[1;33m\u001b[0m\u001b[0m\n\u001b[0m\u001b[0;32m    567\u001b[0m             \u001b[0mout\u001b[0m \u001b[1;33m=\u001b[0m \u001b[0mX\u001b[0m\u001b[1;33m\u001b[0m\u001b[1;33m\u001b[0m\u001b[0m\n\u001b[0;32m    568\u001b[0m         \u001b[1;32melif\u001b[0m \u001b[0mno_val_X\u001b[0m \u001b[1;32mand\u001b[0m \u001b[1;32mnot\u001b[0m \u001b[0mno_val_y\u001b[0m\u001b[1;33m:\u001b[0m\u001b[1;33m\u001b[0m\u001b[1;33m\u001b[0m\u001b[0m\n",
      "\u001b[1;32m~\\anaconda3\\lib\\site-packages\\sklearn\\utils\\validation.py\u001b[0m in \u001b[0;36mcheck_array\u001b[1;34m(array, accept_sparse, accept_large_sparse, dtype, order, copy, force_all_finite, ensure_2d, allow_nd, ensure_min_samples, ensure_min_features, estimator)\u001b[0m\n\u001b[0;32m    767\u001b[0m             \u001b[1;31m# If input is 1D raise error\u001b[0m\u001b[1;33m\u001b[0m\u001b[1;33m\u001b[0m\u001b[0m\n\u001b[0;32m    768\u001b[0m             \u001b[1;32mif\u001b[0m \u001b[0marray\u001b[0m\u001b[1;33m.\u001b[0m\u001b[0mndim\u001b[0m \u001b[1;33m==\u001b[0m \u001b[1;36m1\u001b[0m\u001b[1;33m:\u001b[0m\u001b[1;33m\u001b[0m\u001b[1;33m\u001b[0m\u001b[0m\n\u001b[1;32m--> 769\u001b[1;33m                 raise ValueError(\n\u001b[0m\u001b[0;32m    770\u001b[0m                     \u001b[1;34m\"Expected 2D array, got 1D array instead:\\narray={}.\\n\"\u001b[0m\u001b[1;33m\u001b[0m\u001b[1;33m\u001b[0m\u001b[0m\n\u001b[0;32m    771\u001b[0m                     \u001b[1;34m\"Reshape your data either using array.reshape(-1, 1) if \"\u001b[0m\u001b[1;33m\u001b[0m\u001b[1;33m\u001b[0m\u001b[0m\n",
      "\u001b[1;31mValueError\u001b[0m: Expected 2D array, got 1D array instead:\narray=[22.   38.   26.   35.   35.   35.   54.    2.   27.   14.    4.   58.\n 20.   39.   14.   55.    2.   19.   31.   18.   35.   34.   15.   28.\n  8.   38.   44.   19.   39.   42.   40.   24.   61.   66.   28.   42.\n 32.   21.   18.   14.   40.   27.   40.    3.   19.   50.   20.   28.\n 34.   18.    7.   21.   49.   29.   65.   46.   21.   28.5   5.   11.\n 22.   38.   45.    4.   19.   19.   29.   19.   17.   26.   32.   16.\n 21.   26.   32.   25.   25.   22.    0.83 30.   22.   29.   47.   28.\n 17.   33.   16.   38.   23.   24.   29.   20.   46.   26.   59.   15.\n 71.   23.   34.   34.   28.   36.   21.   33.   37.   28.   21.   60.\n 38.   29.   47.   14.5  22.   20.   17.   21.   70.5  29.   24.    2.\n 21.   35.   32.5  32.5  54.   12.   51.   24.   23.   45.   33.   20.\n 47.   29.   25.   23.   19.   37.   16.   24.   16.   22.   24.   19.\n 18.   19.   27.    9.   36.5  42.   51.   22.   55.5  40.5  16.   51.\n 16.   30.   35.   23.   44.   40.   26.   17.    1.    9.   31.   45.\n 31.   28.   61.    4.    1.   21.   56.   18.   40.   50.   30.   36.\n 26.    4.    9.    1.    4.   22.    5.   45.   40.   36.   32.   19.\n 19.    3.   44.   58.   28.   42.    4.   24.   28.   18.   34.   45.5\n 18.    2.   32.   26.   16.   40.   24.   35.   22.   30.   24.   31.\n 27.   42.   32.   30.   16.   27.   51.    2.   38.   22.   19.   20.5\n 18.   53.   35.   29.   59.    5.   24.   16.   44.    8.   19.   33.\n 31.   27.   29.   22.   30.   44.   25.   24.   37.   54.   28.   29.\n 62.   30.   41.   29.    0.42 30.   35.   50.   47.    3.   52.   40.\n 25.   36.   16.   25.   58.   35.   16.   25.   41.   37.    9.   63.\n 45.   24.    7.   35.   65.   28.   16.   19.   47.   33.   30.   22.\n 42.   22.   26.   19.   36.   24.   24.   16.   23.5   2.   36.   50.\n 17.   58.   19.   14.5  31.    0.92 50.   17.   30.   30.   24.   18.\n 26.   28.   43.   26.   24.   54.   31.   40.   22.   27.   30.   22.\n 49.   36.   61.   36.   31.   16.   19.   45.5  38.   16.   34.   31.\n 29.   41.   45.   45.    2.   24.   28.   25.   36.   24.   40.   26.\n  3.   42.   23.    3.   15.   25.   45.   28.   22.   38.   34.   32.\n 40.   29.   45.   35.   28.   30.   60.   29.   55.   24.   25.   18.\n 19.   22.    3.   20.5  22.   27.   20.   19.   42.    1.   32.   35.\n 58.   18.    1.   36.   16.   17.   36.   21.   28.   23.   24.   22.\n 31.   46.   23.   28.   39.   26.   21.   28.   20.   34.   51.    3.\n 21.   15.   30.   29.   33.   22.   44.   37.   34.   18.   30.   10.\n 39.   21.   29.   28.   18.   37.   28.   19.   39.   32.   28.   23.\n 42.   17.   50.   14.   21.   24.   64.   31.   45.   20.   25.   28.\n 54.    4.   13.   34.    5.   52.   36.   42.   30.   49.   35.   29.\n 65.   32.5  50.   22.   48.   34.   47.   48.   49.   38.   18.   56.\n  5.    0.75 18.   38.   33.   23.   22.   42.   34.   29.   22.    2.\n  9.   30.   50.   63.   25.   24.   35.   58.   30.    9.   35.   21.\n 55.   71.   21.   22.   54.   32.   25.   24.   17.   21.   22.   37.\n 16.   18.   33.   23.   28.   26.   29.   70.   36.   54.   24.   47.\n 34.    0.75 36.   32.   30.   22.   50.   44.   34.   40.5  50.   28.\n 39.   23.    2.   45.   17.   26.   30.    7.   45.   30.   16.   22.\n 36.    9.   11.   32.   50.   64.   19.   44.   33.    8.   17.   27.\n 36.   22.   22.   62.   48.   33.   39.   36.   42.   40.   28.    9.\n 32.   24.   19.   29.   28.   32.   62.   53.   36.   54.   16.   19.\n 34.   39.   32.   32.   25.   39.   54.   36.    5.   18.   47.   60.\n 22.   30.   35.   52.   47.   41.   37.   36.   34.   49.   20.   49.\n 24.   40.    6.   44.   35.   36.   30.   27.   22.   40.   39.   27.\n  4.   45.   35.   24.   34.   26.    4.   26.   27.   42.   20.   21.\n 21.   61.   57.   21.   26.   19.   80.   51.   32.   30.    9.   28.\n 32.   31.   41.   10.   20.   24.    2.   19.    0.75 48.   19.   56.\n 42.   23.   34.   18.   21.   41.   18.   24.   35.   32.   23.   58.\n 50.   40.   47.   36.   20.   32.   25.   26.   43.   66.   40.   31.\n 70.   31.   21.   18.   24.5  18.   43.   36.    8.   27.   20.   14.\n 60.   25.   14.   19.   18.   15.   31.    4.   47.   25.   60.   52.\n 44.   17.   49.   42.   18.   35.   18.   25.   26.   39.   45.   42.\n 22.   24.   24.    9.   48.   29.   52.   19.   38.   27.   24.   33.\n  6.   17.   34.   50.   27.   20.   30.   39.   25.   25.   29.   11.\n  4.   23.   23.   28.5  48.   35.   36.   47.   25.   36.   21.   24.\n 31.   70.   16.   30.   19.   31.    4.    6.   33.   23.   48.    0.67\n 28.   18.   34.   33.   36.   41.   20.   36.   16.   51.   54.   30.5\n 34.   32.   24.   48.   57.   27.   54.   18.   17.    5.   40.   43.\n 13.   17.   29.   35.   25.   25.   18.    8.    1.   46.   36.   16.\n 45.   45.   25.   39.   49.   31.   30.   30.   34.   31.   11.    0.42\n 27.   31.   39.   18.   39.   33.   26.   39.   35.    6.   30.5  52.\n 23.   31.   43.   10.   52.   27.   38.   27.    2.   19.   45.    1.\n 48.   62.   15.    0.83 24.   23.   18.   39.   21.   51.   32.   40.\n 20.   16.   30.   34.5  17.   42.   42.   35.   28.    1.    4.   74.\n  9.   16.   44.   18.   45.   51.   24.   49.   41.   21.   48.   18.\n 24.   42.   27.   31.   27.    4.   26.   47.   33.   47.   28.   15.\n 20.   19.   48.   56.   25.   33.   22.   28.   25.   39.   27.   19.\n 15.   26.   32.  ].\nReshape your data either using array.reshape(-1, 1) if your data has a single feature or array.reshape(1, -1) if it contains a single sample."
     ]
    }
   ],
   "source": [
    "from sklearn.ensemble import IsolationForest\n",
    "model = IsolationForest(max_samples=100, random_state=101)\n",
    "model.fit(df['Age'].values)"
   ]
  },
  {
   "cell_type": "markdown",
   "id": "f1f2a8db",
   "metadata": {},
   "source": [
    "# Hypotheses Testing\n",
    "H0 = Average age of males and females are same ,\n",
    "\n",
    "HA = Average age of males and females are different"
   ]
  },
  {
   "cell_type": "code",
   "execution_count": 29,
   "id": "34b9c950",
   "metadata": {},
   "outputs": [],
   "source": [
    "from scipy import stats"
   ]
  },
  {
   "cell_type": "code",
   "execution_count": 20,
   "id": "269d4fdb",
   "metadata": {},
   "outputs": [
    {
     "data": {
      "text/plain": [
       "0      22.0\n",
       "1      38.0\n",
       "2      26.0\n",
       "3      35.0\n",
       "4      35.0\n",
       "       ... \n",
       "885    39.0\n",
       "886    27.0\n",
       "887    19.0\n",
       "889    26.0\n",
       "890    32.0\n",
       "Name: Age, Length: 714, dtype: float64"
      ]
     },
     "execution_count": 20,
     "metadata": {},
     "output_type": "execute_result"
    }
   ],
   "source": [
    "df['Age'].dropna()"
   ]
  },
  {
   "cell_type": "code",
   "execution_count": 21,
   "id": "33ac45b3",
   "metadata": {},
   "outputs": [],
   "source": [
    "males_age = df[df['Sex']=='male']['Age'].dropna().values\n",
    "females_age = df[df['Sex']=='female']['Age'].dropna().values"
   ]
  },
  {
   "cell_type": "code",
   "execution_count": 39,
   "id": "cd3a458f",
   "metadata": {},
   "outputs": [],
   "source": [
    "males_sample = np.random.choice(males_age,50)\n",
    "females_sample = np.random.choice(females_age,50)"
   ]
  },
  {
   "cell_type": "code",
   "execution_count": 40,
   "id": "fe3d72ca",
   "metadata": {},
   "outputs": [],
   "source": [
    "from scipy.stats import shapiro,levene"
   ]
  },
  {
   "cell_type": "code",
   "execution_count": 41,
   "id": "ec3c72e7",
   "metadata": {},
   "outputs": [
    {
     "name": "stdout",
     "output_type": "stream",
     "text": [
      "ShapiroResult(statistic=0.9594600796699524, pvalue=0.08438032865524292)\n",
      "ShapiroResult(statistic=0.9724100232124329, pvalue=0.2892812192440033)\n"
     ]
    }
   ],
   "source": [
    "print(shapiro(males_sample))\n",
    "print(shapiro(females_sample))"
   ]
  },
  {
   "cell_type": "markdown",
   "id": "ed71dca0",
   "metadata": {},
   "source": [
    "Shapiro test for both samples implies normal districutions."
   ]
  },
  {
   "cell_type": "code",
   "execution_count": 42,
   "id": "ad82972a",
   "metadata": {},
   "outputs": [
    {
     "name": "stdout",
     "output_type": "stream",
     "text": [
      "LeveneResult(statistic=2.1261511831689544, pvalue=0.1480013344170432)\n"
     ]
    }
   ],
   "source": [
    "print(levene(males_sample,females_sample))"
   ]
  },
  {
   "cell_type": "markdown",
   "id": "4bc8cc34",
   "metadata": {},
   "source": [
    "Levene test implies homosckedasticity"
   ]
  },
  {
   "cell_type": "code",
   "execution_count": 43,
   "id": "26bf1010",
   "metadata": {},
   "outputs": [
    {
     "data": {
      "text/plain": [
       "Ttest_indResult(statistic=-0.061357645644448885, pvalue=0.5244003281907902)"
      ]
     },
     "execution_count": 43,
     "metadata": {},
     "output_type": "execute_result"
    }
   ],
   "source": [
    "stats.ttest_ind(males_sample, females_sample,alternative='greater')"
   ]
  },
  {
   "cell_type": "markdown",
   "id": "7a64b1a3",
   "metadata": {},
   "source": [
    "Since pvalue > 0.05, we cannot reject the null hypothesis. Hence, average age of male is not significantly greater than females."
   ]
  },
  {
   "cell_type": "code",
   "execution_count": 31,
   "id": "e7d0dc37",
   "metadata": {},
   "outputs": [
    {
     "data": {
      "text/plain": [
       "30.72664459161148"
      ]
     },
     "execution_count": 31,
     "metadata": {},
     "output_type": "execute_result"
    }
   ],
   "source": [
    "males_age.mean()"
   ]
  },
  {
   "cell_type": "code",
   "execution_count": 32,
   "id": "37b7821e",
   "metadata": {},
   "outputs": [
    {
     "data": {
      "text/plain": [
       "27.915708812260537"
      ]
     },
     "execution_count": 32,
     "metadata": {},
     "output_type": "execute_result"
    }
   ],
   "source": [
    "females_age.mean()"
   ]
  },
  {
   "cell_type": "code",
   "execution_count": 45,
   "id": "48188156",
   "metadata": {},
   "outputs": [
    {
     "data": {
      "text/plain": [
       "0.9625657732472964"
      ]
     },
     "execution_count": 45,
     "metadata": {},
     "output_type": "execute_result"
    }
   ],
   "source": [
    "stats.chi2.sf(1,5)"
   ]
  },
  {
   "cell_type": "code",
   "execution_count": 50,
   "id": "f5b1d351",
   "metadata": {},
   "outputs": [
    {
     "data": {
      "text/plain": [
       "array([491, 216, 184], dtype=int64)"
      ]
     },
     "execution_count": 50,
     "metadata": {},
     "output_type": "execute_result"
    }
   ],
   "source": [
    "df['Pclass'].value_counts().values"
   ]
  },
  {
   "cell_type": "code",
   "execution_count": 49,
   "id": "3b97ac55",
   "metadata": {},
   "outputs": [
    {
     "data": {
      "text/plain": [
       "2057"
      ]
     },
     "execution_count": 49,
     "metadata": {},
     "output_type": "execute_result"
    }
   ],
   "source": [
    "df['Pclass'].sum()"
   ]
  },
  {
   "cell_type": "code",
   "execution_count": 53,
   "id": "a10f8edf",
   "metadata": {},
   "outputs": [
    {
     "data": {
      "text/plain": [
       "Power_divergenceResult(statistic=191.8047138047138, pvalue=2.2394202231028854e-42)"
      ]
     },
     "execution_count": 53,
     "metadata": {},
     "output_type": "execute_result"
    }
   ],
   "source": [
    "chisquare(df['Pclass'].value_counts().values,[297,297,297])"
   ]
  },
  {
   "cell_type": "code",
   "execution_count": 52,
   "id": "856602b7",
   "metadata": {},
   "outputs": [],
   "source": [
    "from scipy.stats import chisquare"
   ]
  },
  {
   "cell_type": "code",
   "execution_count": null,
   "id": "54fa75bc",
   "metadata": {},
   "outputs": [],
   "source": []
  }
 ],
 "metadata": {
  "kernelspec": {
   "display_name": "Python 3 (ipykernel)",
   "language": "python",
   "name": "python3"
  },
  "language_info": {
   "codemirror_mode": {
    "name": "ipython",
    "version": 3
   },
   "file_extension": ".py",
   "mimetype": "text/x-python",
   "name": "python",
   "nbconvert_exporter": "python",
   "pygments_lexer": "ipython3",
   "version": "3.10.9"
  }
 },
 "nbformat": 4,
 "nbformat_minor": 5
}
